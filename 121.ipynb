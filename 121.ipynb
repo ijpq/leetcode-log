{
 "nbformat": 4,
 "nbformat_minor": 2,
 "metadata": {
  "language_info": {
   "name": "python",
   "codemirror_mode": {
    "name": "ipython",
    "version": 3
   }
  },
  "orig_nbformat": 2,
  "file_extension": ".py",
  "mimetype": "text/x-python",
  "name": "python",
  "npconvert_exporter": "python",
  "pygments_lexer": "ipython3",
  "version": 3
 },
 "cells": [
  {
   "cell_type": "markdown",
   "execution_count": null,
   "metadata": {},
   "outputs": [],
   "source": [
    "```\n",
    "# @lc app=leetcode.cn id=121 lang=python3\n",
    "#\n",
    "# [121] 买卖股票的最佳时机\n",
    "#\n",
    "# https://leetcode-cn.com/problems/best-time-to-buy-and-sell-stock/description/\n",
    "#\n",
    "# algorithms\n",
    "# Easy (51.22%)\n",
    "# Likes:    651\n",
    "# Dislikes: 0\n",
    "# Total Accepted:    104.9K\n",
    "# Total Submissions: 203.1K\n",
    "# Testcase Example:  '[7,1,5,3,6,4]'\n",
    "#\n",
    "# 给定一个数组，它的第 i 个元素是一支给定股票第 i 天的价格。\n",
    "# \n",
    "# 如果你最多只允许完成一笔交易（即买入和卖出一支股票），设计一个算法来计算你所能获取的最大利润。\n",
    "# \n",
    "# 注意你不能在买入股票前卖出股票。\n",
    "# \n",
    "# 示例 1:\n",
    "# \n",
    "# 输入: [7,1,5,3,6,4]\n",
    "# 输出: 5\n",
    "# 解释: 在第 2 天（股票价格 = 1）的时候买入，在第 5 天（股票价格 = 6）的时候卖出，最大利润 = 6-1 = 5 。\n",
    "# ⁠    注意利润不能是 7-1 = 6, 因为卖出价格需要大于买入价格。\n",
    "# \n",
    "# \n",
    "# 示例 2:\n",
    "# \n",
    "# 输入: [7,6,4,3,1]\n",
    "# 输出: 0\n",
    "# 解释: 在这种情况下, 没有交易完成, 所以最大利润为 0。\n",
    "# \n",
    "# \n",
    "#\n",
    "```"
   ]
  },
  {
   "cell_type": "markdown",
   "execution_count": null,
   "metadata": {},
   "outputs": [],
   "source": [
    "# 方法1\n",
    "$\\int_{a}^{b} f(x) \\mathrm{d} x=\\left.F(x)\\right|_{a} ^{b}=F(b)-F(a)$\n",
    "</br>\n",
    "f(i)：i-1天买，i天卖获得的收益;则从a,b的积分为a-1天买入，b天卖出获得的总收益\n",
    "</br>\n",
    "F(x):x天的股价"
   ]
  },
  {
   "cell_type": "code",
   "execution_count": null,
   "metadata": {},
   "outputs": [],
   "source": []
  },
  {
   "cell_type": "code",
   "execution_count": null,
   "metadata": {},
   "outputs": [],
   "source": []
  }
 ]
}