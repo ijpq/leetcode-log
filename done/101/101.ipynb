{
 "nbformat": 4,
 "nbformat_minor": 2,
 "metadata": {
  "language_info": {
   "name": "python",
   "codemirror_mode": {
    "name": "ipython",
    "version": 3
   },
   "version": "3.6.7"
  },
  "orig_nbformat": 2,
  "file_extension": ".py",
  "mimetype": "text/x-python",
  "name": "python",
  "npconvert_exporter": "python",
  "pygments_lexer": "ipython3",
  "version": 3
 },
 "cells": [
  {
   "cell_type": "markdown",
   "execution_count": null,
   "metadata": {},
   "outputs": [],
   "source": [
    "## 题目描述"
   ]
  },
  {
   "cell_type": "code",
   "execution_count": 1,
   "metadata": {},
   "outputs": [],
   "source": [
    "#\n",
    "# @lc app=leetcode.cn id=101 lang=python3\n",
    "#\n",
    "# [101] 对称二叉树\n",
    "#\n",
    "# https://leetcode-cn.com/problems/symmetric-tree/description/\n",
    "#\n",
    "# algorithms\n",
    "# Easy (48.88%)\n",
    "# Likes:    534\n",
    "# Dislikes: 0\n",
    "# Total Accepted:    76.6K\n",
    "# Total Submissions: 155.7K\n",
    "# Testcase Example:  '[1,2,2,3,4,4,3]'\n",
    "#\n",
    "# 给定一个二叉树，检查它是否是镜像对称的。\n",
    "# \n",
    "# 例如，二叉树 [1,2,2,3,4,4,3] 是对称的。\n",
    "# \n",
    "# ⁠   1\n",
    "# ⁠  / \\\n",
    "# ⁠ 2   2\n",
    "# ⁠/ \\ / \\\n",
    "# 3  4 4  3\n",
    "# \n",
    "# \n",
    "# 但是下面这个 [1,2,2,null,3,null,3] 则不是镜像对称的:\n",
    "# \n",
    "# ⁠   1\n",
    "# ⁠  / \\\n",
    "# ⁠ 2   2\n",
    "# ⁠  \\   \\\n",
    "# ⁠  3    3\n",
    "# \n",
    "# \n",
    "# 说明:\n",
    "# \n",
    "# 如果你可以运用递归和迭代两种方法解决这个问题，会很加分。\n",
    "# \n",
    "#\n",
    "\n",
    "# @lc code=start\n",
    "# Definition for a binary tree node.\n",
    "# class TreeNode:\n",
    "#     def __init__(self, x):\n",
    "#         self.val = x\n",
    "#         self.left = None\n",
    "#         self.right = None\n",
    "\n"
   ]
  },
  {
   "cell_type": "markdown",
   "execution_count": null,
   "metadata": {},
   "outputs": [],
   "source": [
    "## 思路1 BFS\n",
    "### 思路比较清晰了，就是注意不一定是完全二叉树，所以每一层的尾结点不能由树的深度来计数"
   ]
  },
  {
   "cell_type": "code",
   "execution_count": 2,
   "metadata": {},
   "outputs": [
    {
     "ename": "NameError",
     "evalue": "name 'TreeNode' is not defined",
     "output_type": "error",
     "traceback": [
      "\u001b[0;31m---------------------------------------------------------------------------\u001b[0m",
      "\u001b[0;31mNameError\u001b[0m                                 Traceback (most recent call last)",
      "\u001b[0;32m<ipython-input-2-aba079267701>\u001b[0m in \u001b[0;36m<module>\u001b[0;34m\u001b[0m\n\u001b[1;32m     20\u001b[0m \u001b[0;34m\u001b[0m\u001b[0m\n\u001b[1;32m     21\u001b[0m \u001b[0;34m\u001b[0m\u001b[0m\n\u001b[0;32m---> 22\u001b[0;31m \u001b[0;32mclass\u001b[0m \u001b[0mSolution\u001b[0m\u001b[0;34m:\u001b[0m\u001b[0;34m\u001b[0m\u001b[0;34m\u001b[0m\u001b[0m\n\u001b[0m\u001b[1;32m     23\u001b[0m \u001b[0;34m\u001b[0m\u001b[0m\n\u001b[1;32m     24\u001b[0m     \u001b[0;32mdef\u001b[0m \u001b[0misSymmetric\u001b[0m\u001b[0;34m(\u001b[0m\u001b[0mself\u001b[0m\u001b[0;34m,\u001b[0m \u001b[0mroot\u001b[0m\u001b[0;34m:\u001b[0m \u001b[0mTreeNode\u001b[0m\u001b[0;34m)\u001b[0m \u001b[0;34m->\u001b[0m \u001b[0mbool\u001b[0m\u001b[0;34m:\u001b[0m\u001b[0;34m\u001b[0m\u001b[0;34m\u001b[0m\u001b[0m\n",
      "\u001b[0;32m<ipython-input-2-aba079267701>\u001b[0m in \u001b[0;36mSolution\u001b[0;34m()\u001b[0m\n\u001b[1;32m     22\u001b[0m \u001b[0;32mclass\u001b[0m \u001b[0mSolution\u001b[0m\u001b[0;34m:\u001b[0m\u001b[0;34m\u001b[0m\u001b[0;34m\u001b[0m\u001b[0m\n\u001b[1;32m     23\u001b[0m \u001b[0;34m\u001b[0m\u001b[0m\n\u001b[0;32m---> 24\u001b[0;31m     \u001b[0;32mdef\u001b[0m \u001b[0misSymmetric\u001b[0m\u001b[0;34m(\u001b[0m\u001b[0mself\u001b[0m\u001b[0;34m,\u001b[0m \u001b[0mroot\u001b[0m\u001b[0;34m:\u001b[0m \u001b[0mTreeNode\u001b[0m\u001b[0;34m)\u001b[0m \u001b[0;34m->\u001b[0m \u001b[0mbool\u001b[0m\u001b[0;34m:\u001b[0m\u001b[0;34m\u001b[0m\u001b[0;34m\u001b[0m\u001b[0m\n\u001b[0m\u001b[1;32m     25\u001b[0m         \u001b[0mque\u001b[0m \u001b[0;34m=\u001b[0m \u001b[0;34m[\u001b[0m\u001b[0;34m]\u001b[0m\u001b[0;34m\u001b[0m\u001b[0;34m\u001b[0m\u001b[0m\n\u001b[1;32m     26\u001b[0m         \u001b[0mdepth\u001b[0m \u001b[0;34m=\u001b[0m \u001b[0;36m0\u001b[0m\u001b[0;34m\u001b[0m\u001b[0;34m\u001b[0m\u001b[0m\n",
      "\u001b[0;31mNameError\u001b[0m: name 'TreeNode' is not defined"
     ]
    }
   ],
   "source": [
    "\n",
    "def check(que):\n",
    "    #总是入队一整层后，检查对称性\n",
    "    i, j = 0, len(que)-1\n",
    "    while i <= j:\n",
    "        if que[i][0] is None and que[j][0] is None:\n",
    "            i += 1\n",
    "            j -= 1\n",
    "            continue\n",
    "        elif que[i][0] is None or que[j][0] is None:\n",
    "            return False\n",
    "        elif que[i][0].val == que[j][0].val:\n",
    "            i += 1\n",
    "            j -= 1\n",
    "            continue\n",
    "        else:\n",
    "            return False\n",
    "    return True\n",
    "    pass\n",
    "\n",
    "\n",
    "class Solution:\n",
    "\n",
    "    def isSymmetric(self, root: TreeNode) -> bool:\n",
    "        que = []\n",
    "        depth = 0\n",
    "        counter = 0\n",
    "        tail = 1\n",
    "        que.append((root, depth))\n",
    "        while len(que) > 0:\n",
    "            cur, depth = que.pop(0)  # 出队\n",
    "\n",
    "            counter += 1  # 全局节点计数\n",
    "            if cur is not None:\n",
    "                que.append((cur.left, depth+1))  # 左右孩子入队\n",
    "                que.append((cur.right, depth+1))\n",
    "            if counter == tail:  # 如果出队节点是当前层尾节点\n",
    "                # FIXME  不一定是完全二叉树,第i层不一定有2**(depth+1)个节点，因为上一层可能有空\n",
    "                tail += len(que) #ATTENTION\n",
    "                if check(que):\n",
    "                    continue\n",
    "                    #此时队列中应是下一层(depth)的所有节点，此时应该对队列进行检查\n",
    "                else:\n",
    "\n",
    "                    return False\n",
    "\n",
    "        return True"
   ]
  },
  {
   "cell_type": "code",
   "execution_count": null,
   "metadata": {},
   "outputs": [],
   "source": [
    "# Definition for a binary tree node.\n",
    "# class TreeNode:\n",
    "#     def __init__(self, x):\n",
    "#         self.val = x\n",
    "#         self.left = None\n",
    "#         self.right = None\n",
    "\n",
    "class Solution:\n",
    "    def isSymmetric(self, root: TreeNode) -> bool:\n",
    "        "
   ]
  }
 ]
}