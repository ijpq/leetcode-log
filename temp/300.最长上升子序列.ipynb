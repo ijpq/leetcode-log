{
 "nbformat": 4,
 "nbformat_minor": 2,
 "metadata": {
  "language_info": {
   "name": "python",
   "codemirror_mode": {
    "name": "ipython",
    "version": 3
   },
   "version": "3.6.7"
  },
  "orig_nbformat": 2,
  "file_extension": ".py",
  "mimetype": "text/x-python",
  "name": "python",
  "npconvert_exporter": "python",
  "pygments_lexer": "ipython3",
  "version": 3
 },
 "cells": [
  {
   "cell_type": "markdown",
   "execution_count": null,
   "metadata": {},
   "outputs": [],
   "source": [
    "```\n",
    "#\n",
    "# @lc app=leetcode.cn id=300 lang=python3\n",
    "#\n",
    "# [300] 最长上升子序列\n",
    "#\n",
    "# https://leetcode-cn.com/problems/longest-increasing-subsequence/description/\n",
    "#\n",
    "# algorithms\n",
    "# Medium (43.23%)\n",
    "# Likes:    361\n",
    "# Dislikes: 0\n",
    "# Total Accepted:    39K\n",
    "# Total Submissions: 89.8K\n",
    "# Testcase Example:  '[10,9,2,5,3,7,101,18]'\n",
    "#\n",
    "# 给定一个无序的整数数组，找到其中最长上升子序列的长度。\n",
    "# \n",
    "# 示例:\n",
    "# \n",
    "# 输入: [10,9,2,5,3,7,101,18]\n",
    "# 输出: 4 \n",
    "# 解释: 最长的上升子序列是 [2,3,7,101]，它的长度是 4。\n",
    "# \n",
    "# 说明:\n",
    "# \n",
    "# \n",
    "# 可能会有多种最长上升子序列的组合，你只需要输出对应的长度即可。\n",
    "# 你算法的时间复杂度应该为 O(n^2) 。\n",
    "# \n",
    "# \n",
    "# 进阶: 你能将算法的时间复杂度降低到 O(n log n) 吗?\n",
    "# \n",
    "#\n",
    "```\n"
   ]
  },
  {
   "cell_type": "markdown",
   "execution_count": null,
   "metadata": {},
   "outputs": [],
   "source": [
    "#### 这道题好像清勇老哥讲过，还是老套路，一步一步来。\n",
    "### 首先，暴力解法"
   ]
  },
  {
   "cell_type": "code",
   "execution_count": 2,
   "metadata": {},
   "outputs": [],
   "source": [
    "def solve(nums:list)->int:\n",
    "    length = len(nums)\n",
    "    for i in range(length):\n",
    "        for j in range(length):\n",
    "            sub = nums[]\n",
    "\n",
    "    "
   ]
  },
  {
   "cell_type": "code",
   "execution_count": null,
   "metadata": {},
   "outputs": [],
   "source": []
  }
 ]
}