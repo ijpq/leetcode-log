{
 "nbformat": 4,
 "nbformat_minor": 2,
 "metadata": {
  "language_info": {
   "name": "python",
   "codemirror_mode": {
    "name": "ipython",
    "version": 3
   },
   "version": "3.6.7"
  },
  "orig_nbformat": 2,
  "file_extension": ".py",
  "mimetype": "text/x-python",
  "name": "python",
  "npconvert_exporter": "python",
  "pygments_lexer": "ipython3",
  "version": 3
 },
 "cells": [
  {
   "cell_type": "markdown",
   "execution_count": 3,
   "metadata": {},
   "outputs": [],
   "source": [
    "# 题目描述\n",
    "```\n",
    "#\n",
    "# @lc app=leetcode.cn id=279 lang=python3\n",
    "#\n",
    "# [279] 完全平方数\n",
    "#\n",
    "# https://leetcode-cn.com/problems/perfect-squares/description/\n",
    "#\n",
    "# algorithms\n",
    "# Medium (51.08%)\n",
    "# Likes:    229\n",
    "# Dislikes: 0\n",
    "# Total Accepted:    24.9K\n",
    "# Total Submissions: 48.8K\n",
    "# Testcase Example:  '12'\n",
    "#\n",
    "# 给定正整数 n，找到若干个完全平方数（比如 1, 4, 9, 16, ...）使得它们的和等于 n。你需要让组成和的完全平方数的个数最少。\n",
    "# \n",
    "# 示例 1:\n",
    "# \n",
    "# 输入: n = 12\n",
    "# 输出: 3 \n",
    "# 解释: 12 = 4 + 4 + 4.\n",
    "# \n",
    "# 示例 2:\n",
    "# \n",
    "# 输入: n = 13\n",
    "# 输出: 2\n",
    "# 解释: 13 = 4 + 9.\n",
    "# \n",
    "#\n",
    "\n",
    "# @lc code=start\n",
    "```"
   ]
  },
  {
   "cell_type": "markdown",
   "execution_count": null,
   "metadata": {},
   "outputs": [],
   "source": [
    "# 分类:动态规划\n",
    "## 思路1 从暴力算法开始\n",
    "\n"
   ]
  },
  {
   "cell_type": "code",
   "execution_count": 8,
   "metadata": {},
   "outputs": [
    {
     "name": "stdout",
     "output_type": "stream",
     "text": "solve 30, ans 3\nconsume:0.10043907165527344\n"
    }
   ],
   "source": [
    "\n",
    "import sys\n",
    "import time\n",
    "def solve1(n):\n",
    "    ans = get_shortest(n)\n",
    "\n",
    "def get_shortest(n):\n",
    "    if n <= 1:#实际不会遇到求0的最短序列，该情况已被包含在i**2==n中;而1的最短序列不能在range中求解，所以单独写在前面;\n",
    "        return 1\n",
    "    res = sys.maxsize\n",
    "    for i in range(1,n):#从1开始，逐步计算剩余值(n-i**2)，并求剩余值的最短序列长度\n",
    "        if i**2 == n:#如果当前待求解的值已是一个平方数，则最短序列为自身，长度=1;\n",
    "            return 1\n",
    "        if i**2 >n:#剩余值一定是正数\n",
    "            break\n",
    "        rem = n - i**2\n",
    "        ans = get_shortest(rem) + 1 # get_shortest()返回第一个子树的根节点的最短序列长度; +1 是序列中加入当前子树根节点与get_shortest()之间边的数字\n",
    "        if ans < res:#记录当前子树根节点的最短序列长度\n",
    "            res = ans\n",
    "    return res\n",
    "st=time.time()    \n",
    "n=30\n",
    "ans = get_shortest(n)\n",
    "print('solve {}, ans {}'.format(n,ans))\n",
    "print('consume:{}'.format(time.time()-st))"
   ]
  },
  {
   "cell_type": "markdown",
   "execution_count": null,
   "metadata": {},
   "outputs": [],
   "source": [
    "# 分类:动态规划\n",
    "## 思路2 加入备忘录机制"
   ]
  },
  {
   "cell_type": "code",
   "execution_count": 9,
   "metadata": {},
   "outputs": [
    {
     "name": "stdout",
     "output_type": "stream",
     "text": "solve 30, ans 3\nconsume:0.03713679313659668\n"
    }
   ],
   "source": [
    "\n",
    "import sys\n",
    "import time\n",
    "memo=dict()\n",
    "def solve1(n):\n",
    "    ans = get_shortest(n)\n",
    "\n",
    "def get_shortest(n):\n",
    "    global memo\n",
    "    ans = memo.get(n,-1)\n",
    "    if ans!=-1:\n",
    "        return ans\n",
    "    else:\n",
    "        res = sys.maxsize\n",
    "        for i in range(1,n):#从1开始，逐步计算剩余值(n-i**2)，并求剩余值的最短序列长度\n",
    "            if i**2 == n:#如果当前待求解的值已是一个平方数，则最短序列为自身，长度=1;\n",
    "                memo[n] = 1\n",
    "                return memo[n]\n",
    "            if i**2 >n:#剩余值一定是正数\n",
    "                break\n",
    "            rem = n - i**2\n",
    "            ans = get_shortest(rem) + 1 # get_shortest()返回第一个子树的根节点的最短序列长度; +1 是序列中加入当前子树根节点与get_shortest()之间边的数字\n",
    "            if ans < res:#记录当前子树根节点的最短序列长度\n",
    "                res = ans\n",
    "        memo[n]=res\n",
    "        return memo[n]\n",
    "st=time.time()\n",
    "n=30\n",
    "solve1(n)\n",
    "print('solve {}, ans {}'.format(n,memo[n]))\n",
    "print('consume:{}'.format(time.time()-st))\n"
   ]
  },
  {
   "cell_type": "markdown",
   "execution_count": null,
   "metadata": {},
   "outputs": [],
   "source": [
    "# 分类：动态规划\n",
    "## 思路3 自底向上"
   ]
  },
  {
   "cell_type": "code",
   "execution_count": null,
   "metadata": {},
   "outputs": [],
   "source": []
  }
 ]
}